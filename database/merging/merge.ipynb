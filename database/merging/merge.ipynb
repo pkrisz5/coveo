{
 "cells": [
  {
   "cell_type": "code",
   "execution_count": 1,
   "id": "4bd50638",
   "metadata": {},
   "outputs": [
    {
     "data": {
      "text/html": [
       "<style>.container { width:100% !important; }</style>"
      ],
      "text/plain": [
       "<IPython.core.display.HTML object>"
      ]
     },
     "metadata": {},
     "output_type": "display_data"
    }
   ],
   "source": [
    "from IPython.display import display, HTML\n",
    "display(HTML(\"<style>.container { width:100% !important; }</style>\"))"
   ]
  },
  {
   "cell_type": "markdown",
   "id": "b67a98c6",
   "metadata": {},
   "source": [
    "# Load 2023 February 17 data\n",
    "\n",
    "Duration of download at EBI:\n",
    "```\n",
    "2023-02-20 08:05:00.606227 connected to db engine to use db kooplex_ebi\n",
    "2023-02-20 08:05:16.360970 # 2949880 known items\n",
    "2023-02-20 08:05:17.998033 loaded file ./latest_acc_ELTE_17feb.tsv # 209783 samples\n",
    "....\n",
    "2023-02-20 13:08:43.099806 download threads exited\n",
    "2023-02-20 13:08:43.133807 finished\n",
    "```\n",
    "\n",
    "Duration: **~ 304min**"
   ]
  },
  {
   "cell_type": "code",
   "execution_count": 2,
   "id": "cf80923d",
   "metadata": {},
   "outputs": [],
   "source": [
    "image = 'image-registry.vo.elte.hu/jupyter-bioinf-v5'\n",
    "command = '/v/projects/ebi-vcf-wfct0p/steger/coveo/ELTE/load-2023_02_17.sh'"
   ]
  },
  {
   "cell_type": "code",
   "execution_count": 3,
   "id": "492955b2",
   "metadata": {},
   "outputs": [],
   "source": [
    "! chmod +x {command}"
   ]
  },
  {
   "cell_type": "code",
   "execution_count": 4,
   "id": "df9a8027",
   "metadata": {},
   "outputs": [
    {
     "name": "stdout",
     "output_type": "stream",
     "text": [
      "Job submitted successfully!\r\n"
     ]
    }
   ],
   "source": [
    "! bash /etc/jobtools/kj-submit \\\n",
    "  -n coveo-load -i {image} -c {command} -p 2 -m 16G \\\n",
    "  -H -V coveo-archive --nodename veo2 --projects_rw -P ebi-vcf-wfct0p"
   ]
  },
  {
   "cell_type": "markdown",
   "id": "b4506627",
   "metadata": {},
   "source": [
    "Duration: **47 min**"
   ]
  },
  {
   "cell_type": "markdown",
   "id": "32f66bf6",
   "metadata": {},
   "source": [
    "# Append cotents of `2023-02-17` snapshot\n",
    "\n",
    "## 23. Feb '23."
   ]
  },
  {
   "cell_type": "code",
   "execution_count": 5,
   "id": "fca6a832",
   "metadata": {},
   "outputs": [],
   "source": [
    "import pandas as pd\n",
    "import psycopg2\n",
    "import time\n",
    "import io\n",
    "import datetime\n",
    "import timeit"
   ]
  },
  {
   "cell_type": "code",
   "execution_count": 6,
   "id": "bf81ebb0",
   "metadata": {},
   "outputs": [],
   "source": [
    "prefix = 'load_230217_'\n",
    "drop_suffix = '_230217'"
   ]
  },
  {
   "cell_type": "code",
   "execution_count": 7,
   "id": "2f4304d1",
   "metadata": {},
   "outputs": [],
   "source": [
    "common_comment = '23-02-17 snapshots'"
   ]
  },
  {
   "cell_type": "code",
   "execution_count": 8,
   "id": "bf38c7eb",
   "metadata": {},
   "outputs": [],
   "source": [
    "conn = psycopg2.connect(\n",
    "    dbname='coveo',\n",
    "    host='',\n",
    "    user='public_loader',\n",
    "    password='',\n",
    "    application_name = 'steger loader_notebook'\n",
    ")\n",
    "C = conn.cursor()"
   ]
  },
  {
   "cell_type": "code",
   "execution_count": 9,
   "id": "abd402d0",
   "metadata": {},
   "outputs": [],
   "source": [
    "schema = 'datahub_0'"
   ]
  },
  {
   "cell_type": "code",
   "execution_count": 10,
   "id": "46a262a1",
   "metadata": {},
   "outputs": [],
   "source": [
    "class TimeLogCommit:\n",
    "    def __init__(self, task, table_name = None, commit = True, verbose=True):\n",
    "        self.table_name = table_name\n",
    "        self.task = task\n",
    "        self.verbose = verbose\n",
    "        self.commit = commit\n",
    "\n",
    "    def __enter__(self):\n",
    "        self.t0 = datetime.datetime.now()\n",
    "        self.start = timeit.default_timer()\n",
    "\n",
    "    def __exit__(self, exc_type, exc_value, traceback):\n",
    "        self.took = (timeit.default_timer() - self.start)\n",
    "        if self.table_name:\n",
    "            C.execute(f\"\"\"\n",
    "INSERT INTO {schema}.merge_log\n",
    "VALUES ('{common_comment}', '{self.table_name}', '{self.task}', '{self.t0}', '{datetime.datetime.now()}');\n",
    "\"\"\")\n",
    "        if self.commit:\n",
    "            conn.commit()\n",
    "        if self.verbose:\n",
    "            t = f'on {self.table_name} ' if self.table_name else ' '\n",
    "            print(f'\\n\\033[38;5;208mCode block {self.task} {t}took:\\t{self.took:.5f} seconds\\033[0;0m')"
   ]
  },
  {
   "cell_type": "markdown",
   "id": "12c33e50",
   "metadata": {},
   "source": [
    "# Always check for any duplicates"
   ]
  },
  {
   "cell_type": "code",
   "execution_count": 11,
   "id": "4cb61722",
   "metadata": {},
   "outputs": [
    {
     "name": "stdout",
     "output_type": "stream",
     "text": [
      "\n",
      "\u001b[38;5;208mCode block check cov duplicates  took:\t2.46514 seconds\u001b[0;0m\n"
     ]
    }
   ],
   "source": [
    "with TimeLogCommit(task = 'check cov duplicates'):\n",
    "    sql = f\"\"\"\n",
    "select luc.runid \n",
    "into {schema}.dropme_cov_duplicates{drop_suffix}\n",
    "from {schema}.unique_cov uc\n",
    "inner join {schema}.{prefix}unique_cov luc\n",
    "on luc.runid = uc.runid \n",
    "    \"\"\"\n",
    "    C.execute(sql)"
   ]
  },
  {
   "cell_type": "code",
   "execution_count": 12,
   "id": "c2c5fa5b",
   "metadata": {},
   "outputs": [
    {
     "name": "stderr",
     "output_type": "stream",
     "text": [
      "/opt/conda/lib/python3.8/site-packages/pandas/io/sql.py:761: UserWarning: pandas only support SQLAlchemy connectable(engine/connection) ordatabase string URI or sqlite3 DBAPI2 connectionother DBAPI2 objects are not tested, please consider using SQLAlchemy\n",
      "  warnings.warn(\n"
     ]
    },
    {
     "data": {
      "text/html": [
       "<div>\n",
       "<style scoped>\n",
       "    .dataframe tbody tr th:only-of-type {\n",
       "        vertical-align: middle;\n",
       "    }\n",
       "\n",
       "    .dataframe tbody tr th {\n",
       "        vertical-align: top;\n",
       "    }\n",
       "\n",
       "    .dataframe thead th {\n",
       "        text-align: right;\n",
       "    }\n",
       "</style>\n",
       "<table border=\"1\" class=\"dataframe\">\n",
       "  <thead>\n",
       "    <tr style=\"text-align: right;\">\n",
       "      <th></th>\n",
       "      <th>runid</th>\n",
       "    </tr>\n",
       "  </thead>\n",
       "  <tbody>\n",
       "  </tbody>\n",
       "</table>\n",
       "</div>"
      ],
      "text/plain": [
       "Empty DataFrame\n",
       "Columns: [runid]\n",
       "Index: []"
      ]
     },
     "execution_count": 12,
     "metadata": {},
     "output_type": "execute_result"
    }
   ],
   "source": [
    "pd.read_sql(f\"select * from {schema}.dropme_cov_duplicates{drop_suffix}\", con = conn).head()"
   ]
  },
  {
   "cell_type": "code",
   "execution_count": 13,
   "id": "abf3b1e3",
   "metadata": {},
   "outputs": [
    {
     "name": "stdout",
     "output_type": "stream",
     "text": [
      "\n",
      "\u001b[38;5;208mCode block check vcf duplicates  took:\t2.11582 seconds\u001b[0;0m\n"
     ]
    }
   ],
   "source": [
    "with TimeLogCommit(task = 'check vcf duplicates'):\n",
    "    sql = f\"\"\"\n",
    "select luv.runid \n",
    "into {schema}.dropme_vcf_duplicates{drop_suffix}\n",
    "from {schema}.unique_vcf uv\n",
    "inner join {schema}.{prefix}unique_vcf luv\n",
    "on luv.runid = uv.runid \n",
    "    \"\"\"\n",
    "    C.execute(sql)"
   ]
  },
  {
   "cell_type": "code",
   "execution_count": 14,
   "id": "570a3661",
   "metadata": {},
   "outputs": [
    {
     "name": "stderr",
     "output_type": "stream",
     "text": [
      "/opt/conda/lib/python3.8/site-packages/pandas/io/sql.py:761: UserWarning: pandas only support SQLAlchemy connectable(engine/connection) ordatabase string URI or sqlite3 DBAPI2 connectionother DBAPI2 objects are not tested, please consider using SQLAlchemy\n",
      "  warnings.warn(\n"
     ]
    },
    {
     "data": {
      "text/html": [
       "<div>\n",
       "<style scoped>\n",
       "    .dataframe tbody tr th:only-of-type {\n",
       "        vertical-align: middle;\n",
       "    }\n",
       "\n",
       "    .dataframe tbody tr th {\n",
       "        vertical-align: top;\n",
       "    }\n",
       "\n",
       "    .dataframe thead th {\n",
       "        text-align: right;\n",
       "    }\n",
       "</style>\n",
       "<table border=\"1\" class=\"dataframe\">\n",
       "  <thead>\n",
       "    <tr style=\"text-align: right;\">\n",
       "      <th></th>\n",
       "      <th>runid</th>\n",
       "    </tr>\n",
       "  </thead>\n",
       "  <tbody>\n",
       "  </tbody>\n",
       "</table>\n",
       "</div>"
      ],
      "text/plain": [
       "Empty DataFrame\n",
       "Columns: [runid]\n",
       "Index: []"
      ]
     },
     "execution_count": 14,
     "metadata": {},
     "output_type": "execute_result"
    }
   ],
   "source": [
    "pd.read_sql(f\"select * from {schema}.dropme_vcf_duplicates{drop_suffix}\", con = conn).head()"
   ]
  },
  {
   "cell_type": "markdown",
   "id": "8a4a769c",
   "metadata": {},
   "source": [
    "# HEUREKA there are no duplicates!"
   ]
  },
  {
   "cell_type": "code",
   "execution_count": 15,
   "id": "7a30f273",
   "metadata": {},
   "outputs": [
    {
     "name": "stdout",
     "output_type": "stream",
     "text": [
      "\n",
      "\u001b[38;5;208mCode block merge on unique_cov took:\t7.94339 seconds\u001b[0;0m\n"
     ]
    }
   ],
   "source": [
    "with TimeLogCommit(task = 'merge', table_name = 'unique_cov'):\n",
    "    sql = f\"\"\"\n",
    "insert into {schema}.unique_cov (runid, insertion_ts, snapshot, integrity)\n",
    "select runid, insertion_ts, snapshot, integrity \n",
    "from {schema}.{prefix}unique_cov lc\n",
    "where not lc.runid in (select runid from {schema}.dropme_cov_duplicates{drop_suffix});\n",
    "\"\"\"\n",
    "    C.execute(sql)"
   ]
  },
  {
   "cell_type": "code",
   "execution_count": 16,
   "id": "1fd2e7f5",
   "metadata": {},
   "outputs": [
    {
     "name": "stdout",
     "output_type": "stream",
     "text": [
      "\n",
      "\u001b[38;5;208mCode block merge on cov took:\t5658.86865 seconds\u001b[0;0m\n"
     ]
    }
   ],
   "source": [
    "with TimeLogCommit(task = 'merge', table_name = 'cov'):\n",
    "    sql = f\"\"\"\n",
    "ALTER TABLE {schema}.cov DROP CONSTRAINT cov_runid_fkey;\n",
    "insert into {schema}.cov (runid, pos, coverage)\n",
    "select runid, pos, coverage \n",
    "from {schema}.{prefix}cov lc\n",
    "where not lc.runid in (select runid from {schema}.dropme_cov_duplicates{drop_suffix});\n",
    "ALTER TABLE {schema}.cov ADD CONSTRAINT cov_runid_fkey FOREIGN KEY (runid) REFERENCES {schema}.unique_cov(runid);\n",
    "-- FIXME there is no index on runid!!!\n",
    "    \"\"\"\n",
    "    C.execute(sql)"
   ]
  },
  {
   "cell_type": "code",
   "execution_count": 17,
   "id": "4ab8e582",
   "metadata": {},
   "outputs": [
    {
     "name": "stdout",
     "output_type": "stream",
     "text": [
      "\n",
      "\u001b[38;5;208mCode block merge on unique_vcf took:\t9.89836 seconds\u001b[0;0m\n"
     ]
    }
   ],
   "source": [
    "with TimeLogCommit(task = 'merge', table_name = 'unique_vcf'):\n",
    "    sql = f\"\"\"\n",
    "insert into {schema}.unique_vcf (runid, insertion_ts, snapshot, integrity)\n",
    "select runid, insertion_ts, snapshot, integrity \n",
    "from {schema}.{prefix}unique_vcf lv\n",
    "where not lv.runid in (select runid from {schema}.dropme_vcf_duplicates{drop_suffix});\n",
    "    \"\"\"\n",
    "    C.execute(sql)"
   ]
  },
  {
   "cell_type": "code",
   "execution_count": 18,
   "id": "570354aa",
   "metadata": {},
   "outputs": [
    {
     "name": "stdout",
     "output_type": "stream",
     "text": [
      "\n",
      "\u001b[38;5;208mCode block merge on vcf_key took:\t1356.65778 seconds\u001b[0;0m\n"
     ]
    }
   ],
   "source": [
    "with TimeLogCommit(task = 'merge', table_name = 'vcf_key'):\n",
    "    sql = f\"\"\"\n",
    "ALTER TABLE {schema}.vcf_key DROP CONSTRAINT vcf_key_runid_fkey;\n",
    "DROP INDEX {schema}.idx_vcf_key_runid;\n",
    "insert into {schema}.vcf_key (key, runid, pos, ref, alt)\n",
    "select key, runid, pos, ref, alt\n",
    "from {schema}.{prefix}vcf_key lvk\n",
    "where not lvk.runid in (select runid from {schema}.dropme_vcf_duplicates{drop_suffix});\n",
    "ALTER TABLE {schema}.vcf_key ADD CONSTRAINT vcf_key_runid_fkey FOREIGN KEY (runid) REFERENCES {schema}.unique_vcf(runid);\n",
    "CREATE INDEX idx_vcf_key_runid ON {schema}.vcf_key USING btree (runid);\n",
    "    \"\"\"\n",
    "    C.execute(sql)"
   ]
  },
  {
   "cell_type": "markdown",
   "id": "1b1462fe",
   "metadata": {},
   "source": [
    "with TimeLogCommit(task = 'prepare mask'):\n",
    "    sql = f\"\"\"\n",
    "select key \n",
    "into {schema}.dropme_vcfk{drop_suffix}\n",
    "from datahub_0.{prefix}vcf_key lvk where lvk.runid in (select runid from {schema}.dropme_vcf_duplicates{drop_suffix});\n",
    "    \"\"\"\n",
    "    C.execute(sql)"
   ]
  },
  {
   "cell_type": "code",
   "execution_count": 19,
   "id": "c70b9a9e",
   "metadata": {},
   "outputs": [
    {
     "name": "stdout",
     "output_type": "stream",
     "text": [
      "\n",
      "\u001b[38;5;208mCode block drop index on vcf took:\t0.00287 seconds\u001b[0;0m\n"
     ]
    }
   ],
   "source": [
    "with TimeLogCommit(task = 'drop index', table_name = 'vcf'):\n",
    "    sql = f\"\"\"\n",
    "DROP INDEX IF EXISTS {schema}.idx_vcf_key;\n",
    "DROP INDEX IF EXISTS {schema}.idx_vcf_af;\n",
    "ALTER TABLE {schema}.vcf DROP CONSTRAINT vcf_key_fkey;\n",
    "    \"\"\"\n",
    "    C.execute(sql)"
   ]
  },
  {
   "cell_type": "markdown",
   "id": "bb773d65",
   "metadata": {},
   "source": [
    "with TimeLogCommit(task = 'prepare complementer'):\n",
    "    sql = f\"\"\"\n",
    "select lsv.*\n",
    "into {schema}.lsv_complementer{drop_suffix}\n",
    "from {schema}.{prefix}vcf lsv\n",
    "left outer join {schema}.dropme_vcfk{drop_suffix} dv \n",
    "on lsv.\"key\" = dv.\"key\" \n",
    "where dv.\"key\" is null;\n",
    "    \"\"\"\n",
    "    C.execute(sql)"
   ]
  },
  {
   "cell_type": "code",
   "execution_count": 20,
   "id": "ad903445",
   "metadata": {},
   "outputs": [
    {
     "name": "stdout",
     "output_type": "stream",
     "text": [
      "\n",
      "\u001b[38;5;208mCode block merge on vcf took:\t1325.65676 seconds\u001b[0;0m\n"
     ]
    }
   ],
   "source": [
    "with TimeLogCommit(task = 'merge', table_name = 'vcf'):\n",
    "    sql = f\"\"\"\n",
    "-- insert into {schema}.vcf (key, qual, dp, af, sb, count_ref_forward_base, count_ref_reverse_base, count_alt_forward_base, count_alt_reverse_base, hrun, indel, nmd, major, ann_num)\n",
    "-- select key, qual, dp, af, sb, count_ref_forward_base, count_ref_reverse_base, count_alt_forward_base, count_alt_reverse_base, hrun, indel, nmd, major, ann_num\n",
    "-- from {schema}.lsv_complementer{drop_suffix};\n",
    "\n",
    "insert into {schema}.vcf (key, qual, dp, af, sb, count_ref_forward_base, count_ref_reverse_base, count_alt_forward_base, count_alt_reverse_base, hrun, indel, nmd, major, ann_num)\n",
    "select key, qual, dp, af, sb, count_ref_forward_base, count_ref_reverse_base, count_alt_forward_base, count_alt_reverse_base, hrun, indel, nmd, major, ann_num\n",
    "from {schema}.{prefix}vcf;\n",
    "    \"\"\"\n",
    "    C.execute(sql)"
   ]
  },
  {
   "cell_type": "code",
   "execution_count": 21,
   "id": "48bf1092",
   "metadata": {},
   "outputs": [
    {
     "name": "stdout",
     "output_type": "stream",
     "text": [
      "\n",
      "\u001b[38;5;208mCode block create fk on vcf took:\t295.07182 seconds\u001b[0;0m\n"
     ]
    }
   ],
   "source": [
    "with TimeLogCommit(task = 'create fk', table_name = 'vcf'):\n",
    "    sql = f\"\"\"\n",
    "ALTER TABLE {schema}.vcf ADD CONSTRAINT vcf_key_fkey FOREIGN KEY (key) REFERENCES {schema}.vcf_key(key);\n",
    "    \"\"\"\n",
    "    C.execute(sql)"
   ]
  },
  {
   "cell_type": "code",
   "execution_count": 22,
   "id": "f3e056dc",
   "metadata": {},
   "outputs": [
    {
     "name": "stdout",
     "output_type": "stream",
     "text": [
      "\n",
      "\u001b[38;5;208mCode block create index key on vcf took:\t890.81881 seconds\u001b[0;0m\n"
     ]
    }
   ],
   "source": [
    "with TimeLogCommit(task = 'create index key', table_name = 'vcf'):\n",
    "    sql = f\"\"\"\n",
    "CREATE INDEX idx_vcf_key ON {schema}.vcf USING btree (key);\n",
    "    \"\"\"\n",
    "    C.execute(sql)"
   ]
  },
  {
   "cell_type": "code",
   "execution_count": 23,
   "id": "c739fb15",
   "metadata": {},
   "outputs": [
    {
     "name": "stdout",
     "output_type": "stream",
     "text": [
      "\n",
      "\u001b[38;5;208mCode block create index af on vcf took:\t590.55257 seconds\u001b[0;0m\n"
     ]
    }
   ],
   "source": [
    "with TimeLogCommit(task = 'create index af', table_name = 'vcf'):\n",
    "    sql = f\"\"\"\n",
    "CREATE INDEX idx_vcf_af ON {schema}.vcf USING btree (af);\n",
    "    \"\"\"\n",
    "    C.execute(sql)"
   ]
  },
  {
   "cell_type": "code",
   "execution_count": 25,
   "id": "66e69a64",
   "metadata": {},
   "outputs": [],
   "source": [
    "conn.rollback()"
   ]
  },
  {
   "cell_type": "code",
   "execution_count": 26,
   "id": "9e211b6d",
   "metadata": {},
   "outputs": [
    {
     "name": "stdout",
     "output_type": "stream",
     "text": [
      "\n",
      "\u001b[38;5;208mCode block merge on vcf_lof took:\t455.90233 seconds\u001b[0;0m\n"
     ]
    }
   ],
   "source": [
    "with TimeLogCommit(task = 'merge', table_name = 'vcf_lof'):\n",
    "    sql = f\"\"\"\n",
    "ALTER TABLE {schema}.vcf_lof DROP CONSTRAINT vcf_lof_key_fkey;\n",
    "insert into {schema}.vcf_lof (key, lof)\n",
    "select lvl.key, lof\n",
    "from {schema}.{prefix}vcf_lof lvl\n",
    ";-- left outer join {schema}.dropme_vcfk{drop_suffix} drp\n",
    "-- on drp.\"key\" = lvl.\"key\" \n",
    "-- where drp.\"key\" is null;\n",
    "ALTER TABLE {schema}.vcf_lof ADD CONSTRAINT vcf_lof_key_fkey FOREIGN KEY (key) REFERENCES {schema}.vcf_key(key);\n",
    "    \"\"\"\n",
    "    C.execute(sql)"
   ]
  },
  {
   "cell_type": "code",
   "execution_count": 27,
   "id": "33af9829",
   "metadata": {},
   "outputs": [
    {
     "name": "stdout",
     "output_type": "stream",
     "text": [
      "\n",
      "\u001b[38;5;208mCode block merge on annotation_binding took:\t1467.11832 seconds\u001b[0;0m\n"
     ]
    }
   ],
   "source": [
    "with TimeLogCommit(task = 'merge', table_name = 'annotation_binding'):\n",
    "    sql = f\"\"\"\n",
    "ALTER TABLE {schema}.annotation_binding DROP CONSTRAINT annotation_binding_key_fkey;\n",
    "insert into {schema}.annotation_binding (key, gene_name, annotation_atom)\n",
    "select lab.key, gene_name, annotation_atom\n",
    "from {schema}.{prefix}annotation_binding lab\n",
    ";-- left outer join {schema}.dropme_vcfk{drop_suffix} drp\n",
    "-- on drp.\"key\" = lab.\"key\" \n",
    "-- where drp.\"key\" is null;\n",
    "ALTER TABLE {schema}.annotation_binding ADD CONSTRAINT annotation_binding_key_fkey FOREIGN KEY (key) REFERENCES {schema}.vcf_key(key);\n",
    "    \"\"\"\n",
    "    C.execute(sql)"
   ]
  },
  {
   "cell_type": "code",
   "execution_count": 28,
   "id": "f93bf636",
   "metadata": {},
   "outputs": [
    {
     "name": "stdout",
     "output_type": "stream",
     "text": [
      "\n",
      "\u001b[38;5;208mCode block drop index on annotation took:\t0.10367 seconds\u001b[0;0m\n"
     ]
    }
   ],
   "source": [
    "with TimeLogCommit(task = 'drop index', table_name = 'annotation'):\n",
    "    sql = f\"\"\"\n",
    "ALTER TABLE {schema}.annotation DROP CONSTRAINT annotation_key_fkey;\n",
    "DROP INDEX IF EXISTS {schema}.idx_annotation_hgvsp;\n",
    "DROP INDEX IF EXISTS {schema}.idx_annotation_genename;\n",
    "DROP INDEX IF EXISTS {schema}.idx_annotation_key;\n",
    "    \"\"\"\n",
    "    C.execute(sql)"
   ]
  },
  {
   "cell_type": "code",
   "execution_count": 29,
   "id": "8d6db7de",
   "metadata": {},
   "outputs": [
    {
     "name": "stdout",
     "output_type": "stream",
     "text": [
      "\n",
      "\u001b[38;5;208mCode block merge on annotation took:\t2698.26016 seconds\u001b[0;0m\n"
     ]
    }
   ],
   "source": [
    "with TimeLogCommit(task = 'merge', table_name = 'annotation'):\n",
    "    sql = f\"\"\"\n",
    "insert into {schema}.annotation (key, annotation_impact, gene_name, feature_type, feature_id, transcript_biotype, rank_, hgvs_c, hgvs_p, cdna_pos, cdna_length, cds_pos, cds_length, aa_pos, aa_length, distance, errors_warnings_info)\n",
    "select la.key, annotation_impact, gene_name, feature_type, feature_id, transcript_biotype, rank_, hgvs_c, hgvs_p, cdna_pos, cdna_length, cds_pos, cds_length, aa_pos, aa_length, distance, errors_warnings_info\n",
    "from {schema}.{prefix}annotation la\n",
    ";-- left outer join {schema}.dropme_vcfk{drop_suffix} drp\n",
    "-- on drp.\"key\" = la.\"key\" \n",
    "-- where drp.\"key\" is null;\n",
    "    \"\"\"\n",
    "    C.execute(sql)"
   ]
  },
  {
   "cell_type": "code",
   "execution_count": 30,
   "id": "fec966db",
   "metadata": {},
   "outputs": [
    {
     "name": "stdout",
     "output_type": "stream",
     "text": [
      "\n",
      "\u001b[38;5;208mCode block create index hgvs on annotation took:\t2105.43990 seconds\u001b[0;0m\n"
     ]
    }
   ],
   "source": [
    "with TimeLogCommit(task = 'create index hgvs', table_name = 'annotation'):\n",
    "    sql = f\"\"\"\n",
    "CREATE INDEX idx_annotation_hgvsp ON {schema}.annotation USING btree (hgvs_p);\n",
    "    \"\"\"\n",
    "    C.execute(sql)"
   ]
  },
  {
   "cell_type": "code",
   "execution_count": 31,
   "id": "72740c0e",
   "metadata": {},
   "outputs": [
    {
     "name": "stdout",
     "output_type": "stream",
     "text": [
      "\n",
      "\u001b[38;5;208mCode block create index gene_name on annotation took:\t1069.58033 seconds\u001b[0;0m\n"
     ]
    }
   ],
   "source": [
    "with TimeLogCommit(task = 'create index gene_name', table_name = 'annotation'):\n",
    "    sql = f\"\"\"\n",
    "CREATE INDEX idx_annotation_genename ON {schema}.annotation USING btree (gene_name);\n",
    "    \"\"\"\n",
    "    C.execute(sql)"
   ]
  },
  {
   "cell_type": "code",
   "execution_count": 32,
   "id": "0cede5d5",
   "metadata": {},
   "outputs": [
    {
     "name": "stdout",
     "output_type": "stream",
     "text": [
      "\n",
      "\u001b[38;5;208mCode block create index key on annotation took:\t1085.54829 seconds\u001b[0;0m\n"
     ]
    }
   ],
   "source": [
    "with TimeLogCommit(task = 'create index key', table_name = 'annotation'):\n",
    "    sql = f\"\"\"\n",
    "CREATE INDEX idx_annotation_key ON {schema}.annotation USING btree (key);\n",
    "    \"\"\"\n",
    "    C.execute(sql)"
   ]
  },
  {
   "cell_type": "code",
   "execution_count": 33,
   "id": "d484284b",
   "metadata": {},
   "outputs": [
    {
     "name": "stdout",
     "output_type": "stream",
     "text": [
      "\n",
      "\u001b[38;5;208mCode block create fk on annotation took:\t130.57688 seconds\u001b[0;0m\n"
     ]
    }
   ],
   "source": [
    "with TimeLogCommit(task = 'create fk', table_name = 'annotation'):\n",
    "    sql = f\"\"\"\n",
    "ALTER TABLE {schema}.annotation ADD CONSTRAINT annotation_key_fkey FOREIGN KEY (key) REFERENCES {schema}.vcf_key(key);\n",
    "    \"\"\"\n",
    "    C.execute(sql)"
   ]
  },
  {
   "cell_type": "markdown",
   "id": "5dc7d034",
   "metadata": {},
   "source": [
    "# Make sure to update metadata and jhd\n",
    "\n",
    "* [update meta](./update-meta.ipynb)\n",
    "* [update JHD](./update-jhd.ipynb)"
   ]
  },
  {
   "cell_type": "code",
   "execution_count": 34,
   "id": "5d5d55e9",
   "metadata": {},
   "outputs": [
    {
     "name": "stdout",
     "output_type": "stream",
     "text": [
      "\n",
      "\u001b[38;5;208mCode block analyze on * took:\t1041.44251 seconds\u001b[0;0m\n"
     ]
    }
   ],
   "source": [
    "with TimeLogCommit(task = 'analyze', table_name = '*'):\n",
    "    C.execute(f\"ANALYZE\")"
   ]
  },
  {
   "cell_type": "code",
   "execution_count": null,
   "id": "9d6f710a",
   "metadata": {},
   "outputs": [],
   "source": []
  },
  {
   "cell_type": "markdown",
   "id": "2f432152",
   "metadata": {},
   "source": [
    "# Take care of materialized views"
   ]
  },
  {
   "cell_type": "code",
   "execution_count": 35,
   "id": "8a852f6c",
   "metadata": {},
   "outputs": [
    {
     "name": "stdout",
     "output_type": "stream",
     "text": [
      "\n",
      "\u001b[38;5;208mCode block refresh on aa_mutation took:\t1041.02856 seconds\u001b[0;0m\n",
      "\n",
      "\u001b[38;5;208mCode block refresh on app_new_cases_jhd took:\t30.52096 seconds\u001b[0;0m\n",
      "\n",
      "\u001b[38;5;208mCode block refresh on app_country_samples took:\t19.16254 seconds\u001b[0;0m\n",
      "\n",
      "\u001b[38;5;208mCode block refresh on app_country_samples_full took:\t19.27157 seconds\u001b[0;0m\n",
      "\n",
      "\u001b[38;5;208mCode block refresh on app_human_meta_mv took:\t24.53660 seconds\u001b[0;0m\n",
      "\n",
      "\u001b[38;5;208mCode block refresh on app_human_meta_mv_jhd took:\t23.99638 seconds\u001b[0;0m\n",
      "\n",
      "\u001b[38;5;208mCode block refresh on lineage took:\t340.26239 seconds\u001b[0;0m\n",
      "\n",
      "\u001b[38;5;208mCode block refresh on app_worldplot_data took:\t21.66840 seconds\u001b[0;0m\n",
      "\n",
      "\u001b[38;5;208mCode block refresh on unique_ena_run_summary took:\t496.99089 seconds\u001b[0;0m\n",
      "\n",
      "\u001b[38;5;208mCode block refresh on app_lineage took:\t53.62097 seconds\u001b[0;0m\n",
      "\n",
      "\u001b[38;5;208mCode block refresh on app_variants_weekly took:\t45.17494 seconds\u001b[0;0m\n",
      "\n",
      "\u001b[38;5;208mCode block refresh on n_content took:\t354.40675 seconds\u001b[0;0m\n",
      "\n",
      "\u001b[38;5;208mCode block refresh on vcf_key_gene_s_af_gt_05 took:\t999.87118 seconds\u001b[0;0m\n",
      "\n",
      "\u001b[38;5;208mCode block refresh on vcf_key_selected took:\t1550.46961 seconds\u001b[0;0m\n",
      "\n",
      "\u001b[38;5;208mCode block refresh on test_background_sample_counts took:\t25.44069 seconds\u001b[0;0m\n"
     ]
    }
   ],
   "source": [
    "for mv in [\n",
    "    'aa_mutation', 'app_new_cases_jhd', 'app_country_samples', 'app_country_samples_full', 'app_human_meta_mv', 'app_human_meta_mv_jhd',\n",
    "    'lineage', 'app_worldplot_data', 'unique_ena_run_summary', 'app_lineage', 'app_variants_weekly',\n",
    "    'n_content', 'vcf_key_gene_s_af_gt_05', 'vcf_key_selected', 'test_background_sample_counts', # 'pcr_assay_results'\n",
    "]:\n",
    "    with TimeLogCommit(task = 'refresh', table_name = mv):\n",
    "        C.execute(f\"REFRESH MATERIALIZED VIEW {schema}.{mv}\")\n",
    "    "
   ]
  },
  {
   "cell_type": "code",
   "execution_count": 44,
   "id": "e3ce4d77",
   "metadata": {},
   "outputs": [],
   "source": [
    "conn.rollback()"
   ]
  },
  {
   "cell_type": "code",
   "execution_count": null,
   "id": "02fb9c3e",
   "metadata": {},
   "outputs": [],
   "source": []
  }
 ],
 "metadata": {
  "finalized": {
   "timestamp": 1675707572083,
   "trusted": false
  },
  "kernelspec": {
   "display_name": "Python 3",
   "language": "python",
   "name": "python3"
  },
  "language_info": {
   "codemirror_mode": {
    "name": "ipython",
    "version": 3
   },
   "file_extension": ".py",
   "mimetype": "text/x-python",
   "name": "python",
   "nbconvert_exporter": "python",
   "pygments_lexer": "ipython3",
   "version": "3.8.8"
  }
 },
 "nbformat": 4,
 "nbformat_minor": 5
}
