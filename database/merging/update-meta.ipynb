{
 "cells": [
  {
   "cell_type": "code",
   "execution_count": 1,
   "id": "0012b02a",
   "metadata": {},
   "outputs": [],
   "source": [
    "import pandas\n",
    "import psycopg2\n",
    "import numpy\n",
    "import time\n",
    "import io\n",
    "import timeit\n",
    "import common\n",
    "import datetime"
   ]
  },
  {
   "cell_type": "code",
   "execution_count": 2,
   "id": "61bb6bbf",
   "metadata": {},
   "outputs": [
    {
     "data": {
      "text/html": [
       "<style>.container { width:100% !important; }</style>"
      ],
      "text/plain": [
       "<IPython.core.display.HTML object>"
      ]
     },
     "metadata": {},
     "output_type": "display_data"
    }
   ],
   "source": [
    "from IPython.display import display, HTML\n",
    "display(HTML(\"<style>.container { width:100% !important; }</style>\"))"
   ]
  },
  {
   "cell_type": "code",
   "execution_count": 3,
   "id": "6703a556",
   "metadata": {},
   "outputs": [],
   "source": [
    "conn = psycopg2.connect(\n",
    "    dbname='coveo',\n",
    "    host='',\n",
    "    user='public_loader',\n",
    "    password='',\n",
    "    application_name = 'steger loader_notebook'\n",
    ")\n",
    "C = conn.cursor()"
   ]
  },
  {
   "cell_type": "code",
   "execution_count": 4,
   "id": "fb6f91db",
   "metadata": {},
   "outputs": [],
   "source": [
    "schema = 'datahub_0'"
   ]
  },
  {
   "cell_type": "code",
   "execution_count": 5,
   "id": "9a65e2b9",
   "metadata": {},
   "outputs": [],
   "source": [
    "common_comment = 'upgrade meta 230223'"
   ]
  },
  {
   "cell_type": "code",
   "execution_count": 6,
   "id": "52b11d23",
   "metadata": {},
   "outputs": [],
   "source": [
    "class TimeLogCommit:\n",
    "    def __init__(self, task, table_name = None, commit = True, verbose=True):\n",
    "        self.table_name = table_name\n",
    "        self.task = task\n",
    "        self.verbose = verbose\n",
    "        self.commit = commit\n",
    "\n",
    "    def __enter__(self):\n",
    "        self.t0 = datetime.datetime.now()\n",
    "        self.start = timeit.default_timer()\n",
    "\n",
    "    def __exit__(self, exc_type, exc_value, traceback):\n",
    "        self.took = (timeit.default_timer() - self.start)\n",
    "        if self.table_name:\n",
    "            C.execute(f\"\"\"\n",
    "INSERT INTO {schema}.merge_log\n",
    "VALUES ('{common_comment}', '{self.table_name}', '{self.task}', '{self.t0}', '{datetime.datetime.now()}');\n",
    "\"\"\")\n",
    "        if self.commit:\n",
    "            conn.commit()\n",
    "        if self.verbose:\n",
    "            t = f'on {self.table_name} ' if self.table_name else ' '\n",
    "            print(f'\\n\\033[38;5;208mCode block {self.task} {t}took:\\t{self.took:.5f} seconds\\033[0;0m')"
   ]
  },
  {
   "cell_type": "markdown",
   "id": "60803a99",
   "metadata": {},
   "source": [
    "# 2023 23 Feb dataset"
   ]
  },
  {
   "cell_type": "code",
   "execution_count": 7,
   "id": "2cb03d21",
   "metadata": {},
   "outputs": [],
   "source": [
    "archive = '/v/volumes/coveoarchive/TMP/meta_20230223.dat.gz'"
   ]
  },
  {
   "cell_type": "code",
   "execution_count": 8,
   "id": "97c2fa8d",
   "metadata": {},
   "outputs": [],
   "source": [
    "url = 'https://www.ebi.ac.uk/ena/portal/api/search?result=read_run&query=tax_tree(2697049)&fields=accession%2Csample_accession%2Cexperiment_accession%2Cstudy_accession%2Cdescription%2Ccountry%2Ccollection_date%2Cfirst_created%2Cfirst_public%2Chost%2Chost_sex%2Chost_tax_id%2Chost_body_site%2Cbio_material%2Cculture_collection%2Cinstrument_model%2Cinstrument_platform%2Clibrary_layout%2Clibrary_name%2Clibrary_selection%2Clibrary_source%2Clibrary_strategy%2Csequencing_method%2Cisolate%2Cstrain%2Cbase_count%2Ccollected_by%2Cbroker_name%2Ccenter_name%2Csample_capture_status%2Cfastq_ftp%2Ccollection_date_submitted%2Cchecklist&format=tsv&limit=0'"
   ]
  },
  {
   "cell_type": "code",
   "execution_count": 9,
   "id": "1109590c",
   "metadata": {},
   "outputs": [
    {
     "name": "stdout",
     "output_type": "stream",
     "text": [
      "  % Total    % Received % Xferd  Average Speed   Time    Time     Time  Current\n",
      "                                 Dload  Upload   Total   Spent    Left  Speed\n",
      "100 3399M    0 3399M    0     0  1915k      0 --:--:--  0:30:17 --:--:--  838k7k      0 --:--:--  0:01:34 --:--:--  911k0     0  1981k      0 --:--:--  0:03:58 --:--:--  184k --:--:--  0:09:49 --:--:-- 5857k  0:10:05 --:--:-- 4151k 0     0  2068k      0 --:--:--  0:10:17 --:--:-- 2920k:10 --:--:-- 2655k5 --:--:--  147k --:--:--  163k      0 --:--:--  0:17:21 --:--:--  323k0  1959k      0 --:--:--  0:17:43 --:--:-- 3825k367M    0 2367M    0     0  1913k      0 --:--:--  0:21:07 --:--:--  255kM    0     0  1935k      0 --:--:--  0:21:32 --:--:--  749k:28:00 --:--:-- 2608k 0 --:--:--  0:28:39 --:--:--  238k0  1943k      0 --:--:--  0:28:44 --:--:--  156k-:--:--  0:29:07 --:--:-- 3891k  137k\n"
     ]
    }
   ],
   "source": [
    "! curl \"{url}\" | gzip -9 > {archive}"
   ]
  },
  {
   "cell_type": "code",
   "execution_count": 10,
   "id": "25206531",
   "metadata": {},
   "outputs": [
    {
     "name": "stderr",
     "output_type": "stream",
     "text": [
      "<ipython-input-10-dce112b71496>:2: DtypeWarning: Columns (10,11,15,19,23,24,25,27,28,29,30,33) have mixed types. Specify dtype option on import or set low_memory=False.\n",
      "  meta = pandas.read_csv(archive, on_bad_lines = 'error', sep = '\\t')\n"
     ]
    },
    {
     "name": "stdout",
     "output_type": "stream",
     "text": [
      "\n",
      "\u001b[38;5;208mCode block load dataset  took:\t55.70363 seconds\u001b[0;0m\n"
     ]
    }
   ],
   "source": [
    "with TimeLogCommit(task = 'load dataset', commit = False):\n",
    "    meta = pandas.read_csv(archive, on_bad_lines = 'error', sep = '\\t')"
   ]
  },
  {
   "cell_type": "markdown",
   "id": "952691e2",
   "metadata": {},
   "source": [
    "## Redundáns vagy üres oszlopok"
   ]
  },
  {
   "cell_type": "code",
   "execution_count": 11,
   "id": "8ec64b73",
   "metadata": {},
   "outputs": [
    {
     "data": {
      "text/plain": [
       "array([nan])"
      ]
     },
     "execution_count": 11,
     "metadata": {},
     "output_type": "execute_result"
    }
   ],
   "source": [
    "meta['host_body_site'].unique()"
   ]
  },
  {
   "cell_type": "code",
   "execution_count": 12,
   "id": "22df5d55",
   "metadata": {},
   "outputs": [
    {
     "data": {
      "text/plain": [
       "array([nan])"
      ]
     },
     "execution_count": 12,
     "metadata": {},
     "output_type": "execute_result"
    }
   ],
   "source": [
    "meta['bio_material'].unique()"
   ]
  },
  {
   "cell_type": "code",
   "execution_count": 13,
   "id": "86969e78",
   "metadata": {},
   "outputs": [],
   "source": [
    "meta.drop(columns = ['host_body_site', 'bio_material', 'sample_accession'], inplace = True)"
   ]
  },
  {
   "cell_type": "code",
   "execution_count": null,
   "id": "12b876e9",
   "metadata": {},
   "outputs": [],
   "source": []
  },
  {
   "cell_type": "code",
   "execution_count": null,
   "id": "2174c26e",
   "metadata": {},
   "outputs": [],
   "source": []
  },
  {
   "cell_type": "code",
   "execution_count": null,
   "id": "d2e7bcbf",
   "metadata": {},
   "outputs": [],
   "source": []
  },
  {
   "cell_type": "code",
   "execution_count": null,
   "id": "9ee99a49",
   "metadata": {},
   "outputs": [],
   "source": []
  },
  {
   "cell_type": "markdown",
   "id": "23523c14",
   "metadata": {},
   "source": [
    "## Table `instrument`"
   ]
  },
  {
   "cell_type": "code",
   "execution_count": 14,
   "id": "d9415130",
   "metadata": {},
   "outputs": [
    {
     "name": "stderr",
     "output_type": "stream",
     "text": [
      "/opt/conda/lib/python3.8/site-packages/pandas/io/sql.py:761: UserWarning: pandas only support SQLAlchemy connectable(engine/connection) ordatabase string URI or sqlite3 DBAPI2 connectionother DBAPI2 objects are not tested, please consider using SQLAlchemy\n",
      "  warnings.warn(\n"
     ]
    },
    {
     "name": "stdout",
     "output_type": "stream",
     "text": [
      "\n",
      "\u001b[38;5;208mCode block prepare instrument  took:\t4.14183 seconds\u001b[0;0m\n"
     ]
    }
   ],
   "source": [
    "with TimeLogCommit(task = 'prepare instrument', commit = False):\n",
    "    instrument_db = pandas.read_sql(sql = f'SELECT * FROM {schema}.instrument', con = conn)\n",
    "    inst = meta[['instrument_platform', 'instrument_model']].copy().drop_duplicates()\n",
    "    _j = pandas.merge(\n",
    "        left = instrument_db, right = inst,\n",
    "        left_on = ('instrument_platform', 'instrument_model'),\n",
    "        right_on = ('instrument_platform', 'instrument_model'),\n",
    "        how = 'right'\n",
    "    )\n",
    "    inst_new = _j[_j['id'].isna()].reset_index().drop(columns=['id', 'index'])\n",
    "    inst_new.index += 1 + max(instrument_db['id']) if instrument_db.shape[0] > 0 else 1"
   ]
  },
  {
   "cell_type": "code",
   "execution_count": 15,
   "id": "3b049d02",
   "metadata": {},
   "outputs": [
    {
     "data": {
      "text/html": [
       "<div>\n",
       "<style scoped>\n",
       "    .dataframe tbody tr th:only-of-type {\n",
       "        vertical-align: middle;\n",
       "    }\n",
       "\n",
       "    .dataframe tbody tr th {\n",
       "        vertical-align: top;\n",
       "    }\n",
       "\n",
       "    .dataframe thead th {\n",
       "        text-align: right;\n",
       "    }\n",
       "</style>\n",
       "<table border=\"1\" class=\"dataframe\">\n",
       "  <thead>\n",
       "    <tr style=\"text-align: right;\">\n",
       "      <th></th>\n",
       "      <th>instrument_platform</th>\n",
       "      <th>instrument_model</th>\n",
       "    </tr>\n",
       "  </thead>\n",
       "  <tbody>\n",
       "  </tbody>\n",
       "</table>\n",
       "</div>"
      ],
      "text/plain": [
       "Empty DataFrame\n",
       "Columns: [instrument_platform, instrument_model]\n",
       "Index: []"
      ]
     },
     "execution_count": 15,
     "metadata": {},
     "output_type": "execute_result"
    }
   ],
   "source": [
    "inst_new"
   ]
  },
  {
   "cell_type": "markdown",
   "id": "8f8840d6",
   "metadata": {},
   "source": [
    "#### Merge necessary"
   ]
  },
  {
   "cell_type": "code",
   "execution_count": 16,
   "id": "89083d26",
   "metadata": {},
   "outputs": [],
   "source": [
    "if inst_new.shape[0] > 0:\n",
    "    with TimeLogCommit(task = 'insert items', table_name = 'instrument'):\n",
    "        pipe = io.StringIO()\n",
    "\n",
    "        inst_new.to_csv(\n",
    "            pipe, sep = '\\t', header = False, index = True\n",
    "        )\n",
    "        pipe.seek(0)\n",
    "        C.copy_expert(f\"COPY {schema}.instrument FROM STDIN WITH (format csv, delimiter '\\t')\", pipe)\n",
    "        pipe.close()\n"
   ]
  },
  {
   "cell_type": "code",
   "execution_count": null,
   "id": "5e449e2b",
   "metadata": {},
   "outputs": [],
   "source": []
  },
  {
   "cell_type": "markdown",
   "id": "18752aaf",
   "metadata": {},
   "source": [
    "## Table `host`"
   ]
  },
  {
   "cell_type": "code",
   "execution_count": 17,
   "id": "b3e9ee60",
   "metadata": {},
   "outputs": [
    {
     "name": "stderr",
     "output_type": "stream",
     "text": [
      "/opt/conda/lib/python3.8/site-packages/pandas/io/sql.py:761: UserWarning: pandas only support SQLAlchemy connectable(engine/connection) ordatabase string URI or sqlite3 DBAPI2 connectionother DBAPI2 objects are not tested, please consider using SQLAlchemy\n",
      "  warnings.warn(\n"
     ]
    },
    {
     "name": "stdout",
     "output_type": "stream",
     "text": [
      "\n",
      "\u001b[38;5;208mCode block prepare host  took:\t16.40497 seconds\u001b[0;0m\n"
     ]
    }
   ],
   "source": [
    "with TimeLogCommit(task = 'prepare host', commit = False):\n",
    "    host_db = pandas.read_sql(sql = f'SELECT * FROM {schema}.host', con = conn)\n",
    "    host_truncate_1 = lambda x: 'Macaca mulatta' if isinstance(x, str) and x.lower().startswith('macaca mulatta') else x\n",
    "    meta['host'] = meta['host'].apply(host_truncate_1)\n",
    "    host_truncate_2 = lambda x: 'Homo sapiens' if isinstance(x, str) and x.lower().startswith('homo sapiens') else x\n",
    "    meta['host'] = meta['host'].apply(host_truncate_2)\n",
    "    host_truncate_3 = lambda x: 'Macaca fascicularis' if isinstance(x, str) and x.lower().startswith('macaca fascicularis') else x\n",
    "    meta['host'] = meta['host'].apply(host_truncate_3)\n",
    "    host_truncate_3 = lambda x: 'Cercopithecus aethiops' if isinstance(x, str) and x.lower().startswith('cercopithecus aethiops') else x\n",
    "    meta['host'] = meta['host'].apply(host_truncate_3)\n",
    "    host_map = {\n",
    "        'Homo Sapien': 'Homo sapiens',\n",
    "        'Homo Sapiens': 'Homo sapiens',\n",
    "        'homo sapiens': 'Homo sapiens',\n",
    "        'Homo sapiens': 'Homo sapiens', \n",
    "        'HomoSapiens': 'Homo sapiens', \n",
    "        'homo sapien': 'Homo sapiens', \n",
    "        'Human': 'Homo sapiens', \n",
    "        'human': 'Homo sapiens', \n",
    "        'Homo\\xa0sapiens\\xa0': 'Homo sapiens',\n",
    "        'mus musculus': 'Mus musculus',\n",
    "    }\n",
    "    host_mapper = lambda x: host_map[x] if x in host_map else x\n",
    "    meta['host'] = meta['host'].apply(host_mapper)\n",
    "\n",
    "    host = meta[['host', 'host_tax_id']].drop_duplicates().dropna().sort_values(['host']).reset_index(drop = True)\n",
    "    host = host.astype({'host_tax_id': pandas.Int64Dtype()})\n",
    "    host_joined = host.merge(host_db, left_on = 'host_tax_id', right_on = 'tax_id', how = 'left')\n",
    "    m_new = host_joined['id'].isna()\n",
    "    host_new = host_joined[m_new][['host_x', 'host_tax_id']].reset_index(drop = True).reset_index()\n",
    "    host_new['index'] += 1 + host_db['id'].max() if host_db.shape[0] > 0 else 1"
   ]
  },
  {
   "cell_type": "code",
   "execution_count": 18,
   "id": "94994182",
   "metadata": {},
   "outputs": [
    {
     "data": {
      "text/plain": [
       "(array(['Canis lupus familiaris', 'Cercocebus aethiops',\n",
       "        'Cercopithecus aethiops', 'Chlorocebus aethiops',\n",
       "        'Chlorocebus sabaeus', 'Crocuta crocuta', 'Felis catus', 'Gorilla',\n",
       "        'Homo sapiens', 'Lagothrix lagotricha', 'Macaca',\n",
       "        'Macaca fascicularis', 'Macaca mulatta', 'Mesocricetus auratus',\n",
       "        'Mus musculus', 'Mustela putorius furo', 'Neogale vison',\n",
       "        'Neovison vison', 'Odocoileus virginianus', 'Panthera leo',\n",
       "        'Panthera pardus', 'Panthera tigris jacksoni',\n",
       "        'Phodopus roborovskii', 'Rhesus macaque',\n",
       "        'Severe acute respiratory syndrome coronavirus 2', 'not provided',\n",
       "        nan], dtype=object),\n",
       " 27)"
      ]
     },
     "execution_count": 18,
     "metadata": {},
     "output_type": "execute_result"
    }
   ],
   "source": [
    "meta['host'].sort_values().unique(), len(meta['host'].sort_values().unique())"
   ]
  },
  {
   "cell_type": "code",
   "execution_count": 19,
   "id": "3f762820",
   "metadata": {},
   "outputs": [
    {
     "data": {
      "text/html": [
       "<div>\n",
       "<style scoped>\n",
       "    .dataframe tbody tr th:only-of-type {\n",
       "        vertical-align: middle;\n",
       "    }\n",
       "\n",
       "    .dataframe tbody tr th {\n",
       "        vertical-align: top;\n",
       "    }\n",
       "\n",
       "    .dataframe thead th {\n",
       "        text-align: right;\n",
       "    }\n",
       "</style>\n",
       "<table border=\"1\" class=\"dataframe\">\n",
       "  <thead>\n",
       "    <tr style=\"text-align: right;\">\n",
       "      <th></th>\n",
       "      <th>host</th>\n",
       "      <th>host_tax_id</th>\n",
       "    </tr>\n",
       "  </thead>\n",
       "  <tbody>\n",
       "    <tr>\n",
       "      <th>3142719</th>\n",
       "      <td>Canis lupus familiaris</td>\n",
       "      <td>9615.0</td>\n",
       "    </tr>\n",
       "    <tr>\n",
       "      <th>225633</th>\n",
       "      <td>Cercocebus aethiops</td>\n",
       "      <td>NaN</td>\n",
       "    </tr>\n",
       "    <tr>\n",
       "      <th>286278</th>\n",
       "      <td>Cercopithecus aethiops</td>\n",
       "      <td>9534.0</td>\n",
       "    </tr>\n",
       "    <tr>\n",
       "      <th>366847</th>\n",
       "      <td>Cercopithecus aethiops</td>\n",
       "      <td>NaN</td>\n",
       "    </tr>\n",
       "    <tr>\n",
       "      <th>102958</th>\n",
       "      <td>Chlorocebus aethiops</td>\n",
       "      <td>9534.0</td>\n",
       "    </tr>\n",
       "    <tr>\n",
       "      <th>1018171</th>\n",
       "      <td>Chlorocebus sabaeus</td>\n",
       "      <td>60711.0</td>\n",
       "    </tr>\n",
       "    <tr>\n",
       "      <th>4281455</th>\n",
       "      <td>Crocuta crocuta</td>\n",
       "      <td>9678.0</td>\n",
       "    </tr>\n",
       "    <tr>\n",
       "      <th>3116801</th>\n",
       "      <td>Felis catus</td>\n",
       "      <td>9685.0</td>\n",
       "    </tr>\n",
       "    <tr>\n",
       "      <th>2101084</th>\n",
       "      <td>Gorilla</td>\n",
       "      <td>9592.0</td>\n",
       "    </tr>\n",
       "    <tr>\n",
       "      <th>3</th>\n",
       "      <td>Homo sapiens</td>\n",
       "      <td>9606.0</td>\n",
       "    </tr>\n",
       "    <tr>\n",
       "      <th>24458</th>\n",
       "      <td>Homo sapiens</td>\n",
       "      <td>NaN</td>\n",
       "    </tr>\n",
       "    <tr>\n",
       "      <th>5962650</th>\n",
       "      <td>Lagothrix lagotricha</td>\n",
       "      <td>9519.0</td>\n",
       "    </tr>\n",
       "    <tr>\n",
       "      <th>3209803</th>\n",
       "      <td>Macaca</td>\n",
       "      <td>9539.0</td>\n",
       "    </tr>\n",
       "    <tr>\n",
       "      <th>0</th>\n",
       "      <td>Macaca fascicularis</td>\n",
       "      <td>9541.0</td>\n",
       "    </tr>\n",
       "    <tr>\n",
       "      <th>6026255</th>\n",
       "      <td>Macaca fascicularis</td>\n",
       "      <td>NaN</td>\n",
       "    </tr>\n",
       "    <tr>\n",
       "      <th>3128032</th>\n",
       "      <td>Macaca mulatta</td>\n",
       "      <td>9544.0</td>\n",
       "    </tr>\n",
       "    <tr>\n",
       "      <th>6026281</th>\n",
       "      <td>Macaca mulatta</td>\n",
       "      <td>NaN</td>\n",
       "    </tr>\n",
       "    <tr>\n",
       "      <th>221</th>\n",
       "      <td>Mesocricetus auratus</td>\n",
       "      <td>10036.0</td>\n",
       "    </tr>\n",
       "    <tr>\n",
       "      <th>4</th>\n",
       "      <td>Mus musculus</td>\n",
       "      <td>10090.0</td>\n",
       "    </tr>\n",
       "    <tr>\n",
       "      <th>3142710</th>\n",
       "      <td>Mustela putorius furo</td>\n",
       "      <td>9669.0</td>\n",
       "    </tr>\n",
       "    <tr>\n",
       "      <th>4439725</th>\n",
       "      <td>Neogale vison</td>\n",
       "      <td>452646.0</td>\n",
       "    </tr>\n",
       "    <tr>\n",
       "      <th>668442</th>\n",
       "      <td>Neovison vison</td>\n",
       "      <td>452646.0</td>\n",
       "    </tr>\n",
       "    <tr>\n",
       "      <th>3978519</th>\n",
       "      <td>Odocoileus virginianus</td>\n",
       "      <td>9874.0</td>\n",
       "    </tr>\n",
       "    <tr>\n",
       "      <th>4281458</th>\n",
       "      <td>Panthera leo</td>\n",
       "      <td>9689.0</td>\n",
       "    </tr>\n",
       "    <tr>\n",
       "      <th>4184500</th>\n",
       "      <td>Panthera pardus</td>\n",
       "      <td>9691.0</td>\n",
       "    </tr>\n",
       "    <tr>\n",
       "      <th>3086854</th>\n",
       "      <td>Panthera tigris jacksoni</td>\n",
       "      <td>419130.0</td>\n",
       "    </tr>\n",
       "    <tr>\n",
       "      <th>4378490</th>\n",
       "      <td>Phodopus roborovskii</td>\n",
       "      <td>109678.0</td>\n",
       "    </tr>\n",
       "    <tr>\n",
       "      <th>3194861</th>\n",
       "      <td>Rhesus macaque</td>\n",
       "      <td>9544.0</td>\n",
       "    </tr>\n",
       "    <tr>\n",
       "      <th>1525942</th>\n",
       "      <td>Severe acute respiratory syndrome coronavirus 2</td>\n",
       "      <td>2697049.0</td>\n",
       "    </tr>\n",
       "    <tr>\n",
       "      <th>195270</th>\n",
       "      <td>not provided</td>\n",
       "      <td>NaN</td>\n",
       "    </tr>\n",
       "    <tr>\n",
       "      <th>202</th>\n",
       "      <td>NaN</td>\n",
       "      <td>NaN</td>\n",
       "    </tr>\n",
       "    <tr>\n",
       "      <th>923047</th>\n",
       "      <td>NaN</td>\n",
       "      <td>9534.0</td>\n",
       "    </tr>\n",
       "    <tr>\n",
       "      <th>923057</th>\n",
       "      <td>NaN</td>\n",
       "      <td>9606.0</td>\n",
       "    </tr>\n",
       "  </tbody>\n",
       "</table>\n",
       "</div>"
      ],
      "text/plain": [
       "                                                    host  host_tax_id\n",
       "3142719                           Canis lupus familiaris       9615.0\n",
       "225633                               Cercocebus aethiops          NaN\n",
       "286278                            Cercopithecus aethiops       9534.0\n",
       "366847                            Cercopithecus aethiops          NaN\n",
       "102958                              Chlorocebus aethiops       9534.0\n",
       "1018171                              Chlorocebus sabaeus      60711.0\n",
       "4281455                                  Crocuta crocuta       9678.0\n",
       "3116801                                      Felis catus       9685.0\n",
       "2101084                                          Gorilla       9592.0\n",
       "3                                           Homo sapiens       9606.0\n",
       "24458                                       Homo sapiens          NaN\n",
       "5962650                             Lagothrix lagotricha       9519.0\n",
       "3209803                                           Macaca       9539.0\n",
       "0                                    Macaca fascicularis       9541.0\n",
       "6026255                              Macaca fascicularis          NaN\n",
       "3128032                                   Macaca mulatta       9544.0\n",
       "6026281                                   Macaca mulatta          NaN\n",
       "221                                 Mesocricetus auratus      10036.0\n",
       "4                                           Mus musculus      10090.0\n",
       "3142710                            Mustela putorius furo       9669.0\n",
       "4439725                                    Neogale vison     452646.0\n",
       "668442                                    Neovison vison     452646.0\n",
       "3978519                           Odocoileus virginianus       9874.0\n",
       "4281458                                     Panthera leo       9689.0\n",
       "4184500                                  Panthera pardus       9691.0\n",
       "3086854                         Panthera tigris jacksoni     419130.0\n",
       "4378490                             Phodopus roborovskii     109678.0\n",
       "3194861                                   Rhesus macaque       9544.0\n",
       "1525942  Severe acute respiratory syndrome coronavirus 2    2697049.0\n",
       "195270                                      not provided          NaN\n",
       "202                                                  NaN          NaN\n",
       "923047                                               NaN       9534.0\n",
       "923057                                               NaN       9606.0"
      ]
     },
     "execution_count": 19,
     "metadata": {},
     "output_type": "execute_result"
    }
   ],
   "source": [
    "meta[['host', 'host_tax_id']].drop_duplicates().sort_values(['host'])"
   ]
  },
  {
   "cell_type": "markdown",
   "id": "b149f83f",
   "metadata": {},
   "source": [
    "<font color=\"red\">Keep only those where tax id and tax name is present</font>"
   ]
  },
  {
   "cell_type": "code",
   "execution_count": 20,
   "id": "60e6667e",
   "metadata": {},
   "outputs": [
    {
     "data": {
      "text/html": [
       "<div>\n",
       "<style scoped>\n",
       "    .dataframe tbody tr th:only-of-type {\n",
       "        vertical-align: middle;\n",
       "    }\n",
       "\n",
       "    .dataframe tbody tr th {\n",
       "        vertical-align: top;\n",
       "    }\n",
       "\n",
       "    .dataframe thead th {\n",
       "        text-align: right;\n",
       "    }\n",
       "</style>\n",
       "<table border=\"1\" class=\"dataframe\">\n",
       "  <thead>\n",
       "    <tr style=\"text-align: right;\">\n",
       "      <th></th>\n",
       "      <th>index</th>\n",
       "      <th>host_x</th>\n",
       "      <th>host_tax_id</th>\n",
       "    </tr>\n",
       "  </thead>\n",
       "  <tbody>\n",
       "  </tbody>\n",
       "</table>\n",
       "</div>"
      ],
      "text/plain": [
       "Empty DataFrame\n",
       "Columns: [index, host_x, host_tax_id]\n",
       "Index: []"
      ]
     },
     "execution_count": 20,
     "metadata": {},
     "output_type": "execute_result"
    }
   ],
   "source": [
    "host_new"
   ]
  },
  {
   "cell_type": "markdown",
   "id": "dc060906",
   "metadata": {},
   "source": [
    "#### Merge needed"
   ]
  },
  {
   "cell_type": "code",
   "execution_count": 21,
   "id": "04295088",
   "metadata": {},
   "outputs": [],
   "source": [
    "if host_new.shape[0] > 0:\n",
    "    with TimeLogCommit(task = 'insert items', table_name = 'instrument'):\n",
    "        pipe = io.StringIO()\n",
    "        host_new[['index', 'host_x', 'host_tax_id']].to_csv(\n",
    "            pipe, sep = '\\t', header = False, index = False\n",
    "        )\n",
    "        pipe.seek(0)\n",
    "        C.copy_expert(f\"COPY {schema}.host FROM STDIN WITH (format csv, delimiter '\\t')\", pipe)\n",
    "        pipe.close()"
   ]
  },
  {
   "cell_type": "code",
   "execution_count": null,
   "id": "b1f0cc04",
   "metadata": {},
   "outputs": [],
   "source": []
  },
  {
   "cell_type": "markdown",
   "id": "2d77e539",
   "metadata": {},
   "source": [
    "## Table `metadata`"
   ]
  },
  {
   "cell_type": "code",
   "execution_count": 22,
   "id": "f1746129",
   "metadata": {},
   "outputs": [
    {
     "name": "stderr",
     "output_type": "stream",
     "text": [
      "/opt/conda/lib/python3.8/site-packages/pandas/io/sql.py:761: UserWarning: pandas only support SQLAlchemy connectable(engine/connection) ordatabase string URI or sqlite3 DBAPI2 connectionother DBAPI2 objects are not tested, please consider using SQLAlchemy\n",
      "  warnings.warn(\n"
     ]
    },
    {
     "name": "stdout",
     "output_type": "stream",
     "text": [
      "2023-02-23 10:25:46.379397 #6187417 ena_run items in db, largest id=6187417\n"
     ]
    },
    {
     "name": "stderr",
     "output_type": "stream",
     "text": [
      "/opt/conda/lib/python3.8/site-packages/pandas/io/sql.py:761: UserWarning: pandas only support SQLAlchemy connectable(engine/connection) ordatabase string URI or sqlite3 DBAPI2 connectionother DBAPI2 objects are not tested, please consider using SQLAlchemy\n",
      "  warnings.warn(\n"
     ]
    },
    {
     "name": "stdout",
     "output_type": "stream",
     "text": [
      "\n",
      "\u001b[38;5;208mCode block append on runid took:\t53.06522 seconds\u001b[0;0m\n"
     ]
    }
   ],
   "source": [
    "with TimeLogCommit(task = 'append', table_name = 'runid'):\n",
    "    the_map = common.Map(conn, C, f'{schema}.runid')\n",
    "    \n",
    "    metadata_old = pandas.read_sql(f\"\"\"\n",
    "SELECT runid, collection_date, collection_date_valid, country_id,\n",
    "       host_id, host_sex, instrument_id, \n",
    "       sample_accession, study_accession, experiment_accession\n",
    "FROM {schema}.metadata\n",
    "    \"\"\", con = conn)\n",
    "\n",
    "    run_id = meta[['run_accession']].copy()\n",
    "\n",
    "    run_id_map = pandas.merge(\n",
    "        left = run_id, right = the_map.from_db,\n",
    "        left_on = 'run_accession', right_on = 'ena_run',\n",
    "        how = 'left'\n",
    "    )\n",
    "\n",
    "    runid_new = run_id_map[run_id_map['ena_run'].isna()].reset_index()\n",
    "    runid_new['id'] = runid_new.index + the_map.largest_id\n",
    "    runid_new.drop(columns=['index', 'ena_run'], inplace=True)\n",
    "    runid_new.rename(columns={'run_accession': 'ena_run'}, inplace=True)\n",
    "\n",
    "    pipe = io.StringIO()\n",
    "    runid_new[['id', 'ena_run']].to_csv(\n",
    "        pipe, sep = '\\t', header = False, index = False\n",
    "    )\n",
    "    pipe.seek(0)\n",
    "    C.copy_expert(f\"COPY {schema}.runid FROM STDIN WITH (format csv, delimiter '\\t')\", pipe)\n",
    "    pipe.close()"
   ]
  },
  {
   "cell_type": "code",
   "execution_count": 23,
   "id": "25d9770b",
   "metadata": {},
   "outputs": [
    {
     "name": "stderr",
     "output_type": "stream",
     "text": [
      "/opt/conda/lib/python3.8/site-packages/pandas/io/sql.py:761: UserWarning: pandas only support SQLAlchemy connectable(engine/connection) ordatabase string URI or sqlite3 DBAPI2 connectionother DBAPI2 objects are not tested, please consider using SQLAlchemy\n",
      "  warnings.warn(\n"
     ]
    },
    {
     "name": "stdout",
     "output_type": "stream",
     "text": [
      "2023-02-23 10:26:41.111733 #6214466 ena_run items in db, largest id=6214466\n"
     ]
    },
    {
     "name": "stderr",
     "output_type": "stream",
     "text": [
      "/opt/conda/lib/python3.8/site-packages/pandas/io/sql.py:761: UserWarning: pandas only support SQLAlchemy connectable(engine/connection) ordatabase string URI or sqlite3 DBAPI2 connectionother DBAPI2 objects are not tested, please consider using SQLAlchemy\n",
      "  warnings.warn(\n"
     ]
    },
    {
     "name": "stdout",
     "output_type": "stream",
     "text": [
      "\n",
      "\u001b[38;5;208mCode block prepare country  took:\t38.22192 seconds\u001b[0;0m\n"
     ]
    }
   ],
   "source": [
    "with TimeLogCommit(task = 'prepare country', commit = False):\n",
    "    the_map = common.Map(conn, C, f'{schema}.runid')\n",
    "    country_back = pandas.read_sql(sql = f'SELECT * FROM {schema}.country', con = conn)\n",
    "\n",
    "    metadata = pandas.merge(\n",
    "        left = meta[['run_accession', 'collection_date', 'collection_date_submitted', 'country', 'host_tax_id', 'host_sex', 'instrument_model', 'instrument_platform', 'accession', 'study_accession', 'experiment_accession']].copy(),\n",
    "        right = the_map.from_db,\n",
    "        left_on = 'run_accession', right_on = 'ena_run',\n",
    "        how = 'inner'\n",
    "    )\n",
    "\n",
    "    metadata.rename(columns={'id':'runid'}, inplace=True)\n",
    "\n",
    "    d_none = metadata['collection_date'].isna()\n",
    "    jan1 = metadata[~ d_none]['collection_date'].apply(lambda x: x.endswith('-01-01'))\n",
    "    jan1_match = metadata[~ d_none][jan1][['collection_date', 'collection_date_submitted']].apply(lambda x: x[1].startswith(x[0]), axis = 1)\n",
    "    metadata['collection_date_valid'] = ~ d_none\n",
    "    jan1idx = metadata.loc[~ d_none].loc[jan1].index \n",
    "    metadata.loc[jan1idx, 'collection_date_valid'] = jan1_match\n",
    "\n",
    "    metadata['country'] = metadata['country'].apply(lambda x: None if pandas.isna(x) else x.split(':')[0])\n",
    "    country_map = {\n",
    "        'USA': 'United States',\n",
    "        'Russia': 'Russian Federation',\n",
    "        'Czech Republic': 'Czechia',\n",
    "        'Myanmar': 'Myanmar/Burma',\n",
    "        'State of Palestine': 'Palestine',\n",
    "    }\n",
    "    metadata['country'] = metadata['country'].apply(lambda x: country_map.get(x, x))\n",
    "    metadata__ = pandas.merge(\n",
    "        left = metadata,  right = country_back, \n",
    "        left_on = 'country', right_on = 'country_name',\n",
    "        how = 'left'\n",
    "    )\n"
   ]
  },
  {
   "cell_type": "code",
   "execution_count": 24,
   "id": "400830b0",
   "metadata": {},
   "outputs": [
    {
     "data": {
      "text/html": [
       "<div>\n",
       "<style scoped>\n",
       "    .dataframe tbody tr th:only-of-type {\n",
       "        vertical-align: middle;\n",
       "    }\n",
       "\n",
       "    .dataframe tbody tr th {\n",
       "        vertical-align: top;\n",
       "    }\n",
       "\n",
       "    .dataframe thead th {\n",
       "        text-align: right;\n",
       "    }\n",
       "</style>\n",
       "<table border=\"1\" class=\"dataframe\">\n",
       "  <thead>\n",
       "    <tr style=\"text-align: right;\">\n",
       "      <th></th>\n",
       "      <th>runid</th>\n",
       "      <th>run_accession</th>\n",
       "      <th>country_name</th>\n",
       "      <th>country</th>\n",
       "    </tr>\n",
       "  </thead>\n",
       "  <tbody>\n",
       "  </tbody>\n",
       "</table>\n",
       "</div>"
      ],
      "text/plain": [
       "Empty DataFrame\n",
       "Columns: [runid, run_accession, country_name, country]\n",
       "Index: []"
      ]
     },
     "execution_count": 24,
     "metadata": {},
     "output_type": "execute_result"
    }
   ],
   "source": [
    "metadata__[metadata__['country_name'].isna() & ~ metadata__['country'].isna() & (metadata__['country']!='not collected')][['runid', 'run_accession', 'country_name', 'country']].head()"
   ]
  },
  {
   "cell_type": "markdown",
   "id": "2fcaaec6",
   "metadata": {},
   "source": [
    "**If table is not empty**, a country_map needs an append..."
   ]
  },
  {
   "cell_type": "code",
   "execution_count": 25,
   "id": "743f951f",
   "metadata": {},
   "outputs": [
    {
     "name": "stderr",
     "output_type": "stream",
     "text": [
      "/opt/conda/lib/python3.8/site-packages/pandas/io/sql.py:761: UserWarning: pandas only support SQLAlchemy connectable(engine/connection) ordatabase string URI or sqlite3 DBAPI2 connectionother DBAPI2 objects are not tested, please consider using SQLAlchemy\n",
      "  warnings.warn(\n",
      "/opt/conda/lib/python3.8/site-packages/pandas/io/sql.py:761: UserWarning: pandas only support SQLAlchemy connectable(engine/connection) ordatabase string URI or sqlite3 DBAPI2 connectionother DBAPI2 objects are not tested, please consider using SQLAlchemy\n",
      "  warnings.warn(\n"
     ]
    },
    {
     "name": "stdout",
     "output_type": "stream",
     "text": [
      "\n",
      "\u001b[38;5;208mCode block append on metadata took:\t106.63845 seconds\u001b[0;0m\n"
     ]
    }
   ],
   "source": [
    "with TimeLogCommit(task = 'append', table_name = 'metadata'):\n",
    "    host_back = pandas.read_sql(sql = f'SELECT * FROM {schema}.host', con = conn)\n",
    "    instrument_back = pandas.read_sql(sql = f'SELECT * FROM {schema}.instrument', con = conn)\n",
    "    metadata = metadata__\n",
    "    metadata.drop(columns=['country_name', 'country_name_local', 'iso_a3', 'iso_a2', 'country'], inplace=True)\n",
    "    metadata.rename(columns={'id': 'country_id'}, inplace=True)\n",
    "\n",
    "    metadata['host_sex'] = metadata['host_sex'].apply(lambda x: None if pandas.isna(x) else x.lower())\n",
    "    metadata = metadata.astype({'host_tax_id': pandas.Int64Dtype()})\n",
    "\n",
    "    tax_id_missing = metadata['host_tax_id'].isna()\n",
    "    m_ok = metadata[~ tax_id_missing].set_index('host_tax_id').join(host_back.set_index('tax_id'), how = 'left').reset_index().rename(columns = {'id': 'host_id'}).drop(columns = ['host', 'index'])\n",
    "    m_ok = m_ok.astype({'host_id': pandas.Int64Dtype()})\n",
    "    m_nok = metadata[tax_id_missing].rename(columns = { 'host_tax_id': 'host_id' })\n",
    "\n",
    "    metadata = pandas.concat([m_ok, m_nok])\n",
    "\n",
    "    metadata = metadata.set_index(['instrument_platform', 'instrument_model']).join(instrument_back.set_index(['instrument_platform', 'instrument_model']), how = 'left').reset_index().rename(columns = {'id': 'instrument_id'}).drop(columns = ['instrument_platform', 'instrument_model'])\n",
    "\n",
    "    metadata_old['dummy'] = 1\n",
    "\n",
    "    metadata_join = metadata.merge(metadata_old, left_on = 'runid', right_on = 'runid', how = 'left')\n",
    "\n",
    "    m_new = metadata_join['dummy'].isna()    \n",
    "\n",
    "    K = [\n",
    "        'runid', 'collection_date_x', 'collection_date_valid_x', 'country_id_x', \n",
    "        'host_id_x', 'host_sex_x', 'instrument_id_x', \n",
    "        'accession', 'study_accession_x', 'experiment_accession_x'\n",
    "    ]\n",
    "    metadata_new = metadata_join[m_new][K]\n",
    "\n",
    "    pipe = io.StringIO()\n",
    "\n",
    "    metadata_new[K].astype({'country_id_x': pandas.Int64Dtype()}).to_csv(\n",
    "        pipe, sep = '\\t', header = False, index = False\n",
    "    )\n",
    "    pipe.seek(0)\n",
    "    C.copy_expert(f\"COPY {schema}.metadata FROM STDIN WITH (format csv, delimiter '\\t')\", pipe)\n",
    "    pipe.close()"
   ]
  },
  {
   "cell_type": "code",
   "execution_count": null,
   "id": "02615b78",
   "metadata": {},
   "outputs": [],
   "source": []
  },
  {
   "cell_type": "markdown",
   "id": "8a5abaab",
   "metadata": {},
   "source": [
    "## Table `library`"
   ]
  },
  {
   "cell_type": "code",
   "execution_count": 26,
   "id": "1724ff52",
   "metadata": {},
   "outputs": [
    {
     "name": "stderr",
     "output_type": "stream",
     "text": [
      "/opt/conda/lib/python3.8/site-packages/pandas/io/sql.py:761: UserWarning: pandas only support SQLAlchemy connectable(engine/connection) ordatabase string URI or sqlite3 DBAPI2 connectionother DBAPI2 objects are not tested, please consider using SQLAlchemy\n",
      "  warnings.warn(\n"
     ]
    },
    {
     "name": "stdout",
     "output_type": "stream",
     "text": [
      "\n",
      "\u001b[38;5;208mCode block prepare library  took:\t2.98928 seconds\u001b[0;0m\n"
     ]
    }
   ],
   "source": [
    "with TimeLogCommit(task = 'prepare library', commit = False):\n",
    "    library_db = pandas.read_sql(f\"\"\"\n",
    "SELECT id, layout type_layout, source, selection, strategy\n",
    "FROM {schema}.library\n",
    "    \"\"\", con = conn)\n",
    "    library = meta[['library_layout', 'library_selection', 'library_source', 'library_strategy']].drop_duplicates().sort_values(['library_source', 'library_strategy']).reset_index(drop=True)\n",
    "    library['library_layout'] = library['library_layout'].map(lambda x: x.lower())\n",
    "\n",
    "    K_left = ['library_layout', 'library_source', 'library_selection', 'library_strategy']\n",
    "    K_right = ['type_layout', 'source', 'selection', 'strategy']\n",
    "    library_joined = library.merge(library_db, left_on = K_left, right_on = K_right, how = 'left')\n",
    "    library_joined = library_joined.astype({'id': pandas.Int64Dtype()})\n",
    "    m_new = library_joined['id'].isna()\n",
    "\n",
    "    library_new = library_joined[m_new][K_left].reset_index(drop = True).reset_index()\n",
    "    library_new['index'] += 1 + library_db['id'].max()"
   ]
  },
  {
   "cell_type": "code",
   "execution_count": 27,
   "id": "387acf34",
   "metadata": {},
   "outputs": [
    {
     "data": {
      "text/html": [
       "<div>\n",
       "<style scoped>\n",
       "    .dataframe tbody tr th:only-of-type {\n",
       "        vertical-align: middle;\n",
       "    }\n",
       "\n",
       "    .dataframe tbody tr th {\n",
       "        vertical-align: top;\n",
       "    }\n",
       "\n",
       "    .dataframe thead th {\n",
       "        text-align: right;\n",
       "    }\n",
       "</style>\n",
       "<table border=\"1\" class=\"dataframe\">\n",
       "  <thead>\n",
       "    <tr style=\"text-align: right;\">\n",
       "      <th></th>\n",
       "      <th>index</th>\n",
       "      <th>library_layout</th>\n",
       "      <th>library_source</th>\n",
       "      <th>library_selection</th>\n",
       "      <th>library_strategy</th>\n",
       "    </tr>\n",
       "  </thead>\n",
       "  <tbody>\n",
       "  </tbody>\n",
       "</table>\n",
       "</div>"
      ],
      "text/plain": [
       "Empty DataFrame\n",
       "Columns: [index, library_layout, library_source, library_selection, library_strategy]\n",
       "Index: []"
      ]
     },
     "execution_count": 27,
     "metadata": {},
     "output_type": "execute_result"
    }
   ],
   "source": [
    "library_new"
   ]
  },
  {
   "cell_type": "code",
   "execution_count": 28,
   "id": "96fc771c",
   "metadata": {},
   "outputs": [],
   "source": [
    "if library_new.shape[0] > 0:\n",
    "    with TimeLogCommit(task = 'insert items', table_name = 'library'):\n",
    "        pipe = io.StringIO()\n",
    "        library_new[['index', 'library_layout', 'library_source', 'library_selection', 'library_strategy']].to_csv(\n",
    "            pipe, sep = '\\t', header = False, index = False\n",
    "        )\n",
    "        pipe.seek(0)\n",
    "        C.copy_expert(f\"COPY {schema}.library FROM STDIN WITH (format csv, delimiter '\\t')\", pipe)\n",
    "        pipe.close()"
   ]
  },
  {
   "cell_type": "code",
   "execution_count": null,
   "id": "e8b92d7b",
   "metadata": {},
   "outputs": [],
   "source": []
  },
  {
   "cell_type": "markdown",
   "id": "cc32a0e9",
   "metadata": {},
   "source": [
    "## Table `collector`"
   ]
  },
  {
   "cell_type": "code",
   "execution_count": 29,
   "id": "ce911d36",
   "metadata": {},
   "outputs": [
    {
     "name": "stderr",
     "output_type": "stream",
     "text": [
      "/opt/conda/lib/python3.8/site-packages/pandas/io/sql.py:761: UserWarning: pandas only support SQLAlchemy connectable(engine/connection) ordatabase string URI or sqlite3 DBAPI2 connectionother DBAPI2 objects are not tested, please consider using SQLAlchemy\n",
      "  warnings.warn(\n"
     ]
    },
    {
     "name": "stdout",
     "output_type": "stream",
     "text": [
      "\n",
      "\u001b[38;5;208mCode block insert items on collector took:\t3.06950 seconds\u001b[0;0m\n"
     ]
    }
   ],
   "source": [
    "with TimeLogCommit(task = 'insert items', table_name = 'collector'):\n",
    "    collector_db = pandas.read_sql(f\"\"\"\n",
    "SELECT id, broker_name, collected_by, center_name\n",
    "FROM {schema}.collector\n",
    "    \"\"\", con = conn)\n",
    "\n",
    "    collector = meta[['broker_name', 'collected_by', 'center_name']].drop_duplicates().sort_values(['center_name', 'broker_name']).reset_index(drop=True)\n",
    "    nullidx = collector[collector['broker_name'].isna() & collector['collected_by'].isna() & collector['center_name'].isna()].index\n",
    "    collector.drop(index = nullidx, inplace = True)\n",
    "    br_nan = collector['broker_name'].isna()\n",
    "    collector['broker_name'][br_nan] = None\n",
    "    \n",
    "    K = ['broker_name', 'collected_by', 'center_name']\n",
    "    collector_joined = collector.merge(collector_db, left_on = K, right_on = K, how = 'left')\n",
    "    m_new = collector_joined['id'].isna()\n",
    "    collector_joined = collector_joined.astype({'id': pandas.Int64Dtype()})\n",
    "    collector_new = collector_joined[m_new][K].reset_index(drop = True).reset_index()\n",
    "    collector_new['index'] += 1 + collector_db['id'].max()\n",
    "\n",
    "    pipe = io.StringIO()\n",
    "    collector_new[['index', 'broker_name', 'collected_by', 'center_name']].to_csv(\n",
    "        pipe, sep = '\\t', header = False, index = False\n",
    "    )\n",
    "    pipe.seek(0)\n",
    "    C.copy_expert(f\"COPY {schema}.collector FROM STDIN WITH (format csv, delimiter '\\t')\", pipe)\n",
    "    pipe.close()"
   ]
  },
  {
   "cell_type": "code",
   "execution_count": null,
   "id": "139f7002",
   "metadata": {},
   "outputs": [],
   "source": []
  },
  {
   "cell_type": "markdown",
   "id": "35c6dab5",
   "metadata": {},
   "source": [
    "## Table `meta_extension`"
   ]
  },
  {
   "cell_type": "code",
   "execution_count": 30,
   "id": "20f2f9d1",
   "metadata": {},
   "outputs": [
    {
     "name": "stderr",
     "output_type": "stream",
     "text": [
      "/opt/conda/lib/python3.8/site-packages/pandas/io/sql.py:761: UserWarning: pandas only support SQLAlchemy connectable(engine/connection) ordatabase string URI or sqlite3 DBAPI2 connectionother DBAPI2 objects are not tested, please consider using SQLAlchemy\n",
      "  warnings.warn(\n"
     ]
    },
    {
     "name": "stdout",
     "output_type": "stream",
     "text": [
      "\n",
      "\u001b[38;5;208mCode block insert items on metaextension took:\t38.86535 seconds\u001b[0;0m\n"
     ]
    }
   ],
   "source": [
    "with TimeLogCommit(task = 'insert items', table_name = 'metaextension'):\n",
    "    meta_extension_db = pandas.read_sql(f\"\"\"\n",
    "SELECT runid, description, fastq_ftp, isolate, sample_capture_status,\n",
    "       strain, checklist, base_count, library_name, library_id, \n",
    "       first_created, first_public, collector_id, country_raw\n",
    "FROM {schema}.metaextension\n",
    "    \"\"\", con = conn)\n",
    "\n",
    "    K = ['library_layout', 'library_source', 'library_selection', 'library_strategy']\n",
    "    Kb = ['type_layout', 'source', 'selection', 'strategy']\n",
    "\n",
    "    lib_slice = meta[K].copy()\n",
    "    lib_slice['library_layout'] = lib_slice['library_layout'].apply(lambda x: x.lower())\n",
    "    lib_id = lib_slice.merge(library_db, left_on = K, right_on = Kb, how = 'left')['id']\n",
    "\n",
    "    K = [ 'broker_name', 'collected_by', 'center_name' ]\n",
    "\n",
    "    col_slice = meta[K].copy()\n",
    "    col_id = col_slice.merge(collector_db, left_on = K, right_on = K, how = 'left')['id']\n",
    "\n",
    "    extension = meta[['run_accession', 'description', 'fastq_ftp', 'isolate', 'sample_capture_status', 'strain',\n",
    "                     'checklist', 'base_count', 'library_name', 'first_created', 'first_public', 'country']].copy()\n",
    "\n",
    "    extension['library_id'] = lib_id\n",
    "    extension['collector_id'] = col_id\n",
    "\n",
    "    extension = extension.astype({\n",
    "        'collector_id': pandas.Int64Dtype(),\n",
    "        'library_id': pandas.Int64Dtype(),\n",
    "    })\n",
    "\n",
    "    extension_ = pandas.merge(\n",
    "        left = extension,\n",
    "        right = the_map.from_db,\n",
    "        left_on = 'run_accession', right_on = 'ena_run',\n",
    "        how = 'inner'\n",
    "    )\n",
    "\n",
    "    metadata_extension_join = extension_.merge(meta_extension_db, left_on = 'id', right_on = 'runid', how = 'left')\n",
    "\n",
    "    m_new = metadata_extension_join['ena_run'].isna()\n",
    "    K = [\n",
    "        'id', 'description_x', 'fastq_ftp_x', 'isolate_x', 'sample_capture_status_x', 'strain_x',\n",
    "        'checklist_x', 'base_count_x', 'library_name_x', 'library_id_x', 'first_created_x', 'first_public_x', \n",
    "        'collector_id_x', 'country_raw'\n",
    "    ]\n",
    "    metadata_extension_new = metadata_extension_join[m_new][K]\n",
    "\n",
    "    pipe = io.StringIO()\n",
    "\n",
    "    metadata_extension_new[K].to_csv(\n",
    "        pipe, sep = '\\t', header = False, index = False\n",
    "    )\n",
    "    pipe.seek(0)\n",
    "    C.copy_expert(f\"COPY {schema}.metaextension FROM STDIN WITH (format csv, delimiter '\\t')\", pipe)\n",
    "    pipe.close()"
   ]
  },
  {
   "cell_type": "code",
   "execution_count": null,
   "id": "7f03172e",
   "metadata": {},
   "outputs": [],
   "source": [
    "#conn.commit()"
   ]
  }
 ],
 "metadata": {
  "finalized": {
   "timestamp": 1673860189237,
   "trusted": false
  },
  "kernelspec": {
   "display_name": "Python 3",
   "language": "python",
   "name": "python3"
  },
  "language_info": {
   "codemirror_mode": {
    "name": "ipython",
    "version": 3
   },
   "file_extension": ".py",
   "mimetype": "text/x-python",
   "name": "python",
   "nbconvert_exporter": "python",
   "pygments_lexer": "ipython3",
   "version": "3.8.8"
  }
 },
 "nbformat": 4,
 "nbformat_minor": 5
}
